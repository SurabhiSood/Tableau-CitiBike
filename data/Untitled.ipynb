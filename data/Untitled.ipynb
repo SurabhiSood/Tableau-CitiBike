{
 "cells": [
  {
   "cell_type": "code",
   "execution_count": 1,
   "metadata": {},
   "outputs": [],
   "source": [
    "import pandas as pd"
   ]
  },
  {
   "cell_type": "code",
   "execution_count": 2,
   "metadata": {},
   "outputs": [
    {
     "data": {
      "text/html": [
       "<div>\n",
       "<style scoped>\n",
       "    .dataframe tbody tr th:only-of-type {\n",
       "        vertical-align: middle;\n",
       "    }\n",
       "\n",
       "    .dataframe tbody tr th {\n",
       "        vertical-align: top;\n",
       "    }\n",
       "\n",
       "    .dataframe thead th {\n",
       "        text-align: right;\n",
       "    }\n",
       "</style>\n",
       "<table border=\"1\" class=\"dataframe\">\n",
       "  <thead>\n",
       "    <tr style=\"text-align: right;\">\n",
       "      <th></th>\n",
       "      <th>Unnamed: 0</th>\n",
       "      <th>end station name</th>\n",
       "      <th>start station name</th>\n",
       "      <th>Date</th>\n",
       "      <th>start hour</th>\n",
       "      <th>stoptime</th>\n",
       "      <th>usertype</th>\n",
       "      <th>bikeid</th>\n",
       "      <th>birth year</th>\n",
       "      <th>end station id</th>\n",
       "      <th>end station latitude</th>\n",
       "      <th>end station longitude</th>\n",
       "      <th>gender</th>\n",
       "      <th>start station id</th>\n",
       "      <th>start station latitude</th>\n",
       "      <th>start station longitude</th>\n",
       "      <th>tripduration(sec)</th>\n",
       "      <th>tripduration(min)</th>\n",
       "    </tr>\n",
       "  </thead>\n",
       "  <tbody>\n",
       "    <tr>\n",
       "      <th>0</th>\n",
       "      <td>0</td>\n",
       "      <td>Grove St PATH</td>\n",
       "      <td>Hamilton Park</td>\n",
       "      <td>1/27/2019</td>\n",
       "      <td>10:29:35 AM</td>\n",
       "      <td>10:29:35 AM</td>\n",
       "      <td>Customer</td>\n",
       "      <td>29209</td>\n",
       "      <td>1969</td>\n",
       "      <td>3186</td>\n",
       "      <td>40.719586</td>\n",
       "      <td>-74.043117</td>\n",
       "      <td>U</td>\n",
       "      <td>3203</td>\n",
       "      <td>40.727596</td>\n",
       "      <td>-74.044247</td>\n",
       "      <td>284</td>\n",
       "      <td>4.73</td>\n",
       "    </tr>\n",
       "    <tr>\n",
       "      <th>1</th>\n",
       "      <td>1</td>\n",
       "      <td>Grove St PATH</td>\n",
       "      <td>Hamilton Park</td>\n",
       "      <td>1/27/2019</td>\n",
       "      <td>10:30:02 AM</td>\n",
       "      <td>10:30:02 AM</td>\n",
       "      <td>Customer</td>\n",
       "      <td>29490</td>\n",
       "      <td>1969</td>\n",
       "      <td>3186</td>\n",
       "      <td>40.719586</td>\n",
       "      <td>-74.043117</td>\n",
       "      <td>U</td>\n",
       "      <td>3203</td>\n",
       "      <td>40.727596</td>\n",
       "      <td>-74.044247</td>\n",
       "      <td>309</td>\n",
       "      <td>5.15</td>\n",
       "    </tr>\n",
       "    <tr>\n",
       "      <th>2</th>\n",
       "      <td>2</td>\n",
       "      <td>Heights Elevator</td>\n",
       "      <td>Hamilton Park</td>\n",
       "      <td>1/26/2019</td>\n",
       "      <td>1:21:48 PM</td>\n",
       "      <td>1:21:48 PM</td>\n",
       "      <td>Customer</td>\n",
       "      <td>26163</td>\n",
       "      <td>1969</td>\n",
       "      <td>3198</td>\n",
       "      <td>40.748716</td>\n",
       "      <td>-74.040443</td>\n",
       "      <td>U</td>\n",
       "      <td>3203</td>\n",
       "      <td>40.727596</td>\n",
       "      <td>-74.044247</td>\n",
       "      <td>1319</td>\n",
       "      <td>21.98</td>\n",
       "    </tr>\n",
       "    <tr>\n",
       "      <th>3</th>\n",
       "      <td>3</td>\n",
       "      <td>JC Medical Center</td>\n",
       "      <td>JC Medical Center</td>\n",
       "      <td>1/27/2019</td>\n",
       "      <td>11:45:28 AM</td>\n",
       "      <td>11:45:28 AM</td>\n",
       "      <td>Customer</td>\n",
       "      <td>26184</td>\n",
       "      <td>1969</td>\n",
       "      <td>3205</td>\n",
       "      <td>40.716540</td>\n",
       "      <td>-74.049638</td>\n",
       "      <td>U</td>\n",
       "      <td>3205</td>\n",
       "      <td>40.716540</td>\n",
       "      <td>-74.049638</td>\n",
       "      <td>1919</td>\n",
       "      <td>31.98</td>\n",
       "    </tr>\n",
       "    <tr>\n",
       "      <th>4</th>\n",
       "      <td>4</td>\n",
       "      <td>JC Medical Center</td>\n",
       "      <td>JC Medical Center</td>\n",
       "      <td>1/27/2019</td>\n",
       "      <td>11:45:53 AM</td>\n",
       "      <td>11:45:53 AM</td>\n",
       "      <td>Customer</td>\n",
       "      <td>26222</td>\n",
       "      <td>1969</td>\n",
       "      <td>3205</td>\n",
       "      <td>40.716540</td>\n",
       "      <td>-74.049638</td>\n",
       "      <td>U</td>\n",
       "      <td>3205</td>\n",
       "      <td>40.716540</td>\n",
       "      <td>-74.049638</td>\n",
       "      <td>1893</td>\n",
       "      <td>31.55</td>\n",
       "    </tr>\n",
       "  </tbody>\n",
       "</table>\n",
       "</div>"
      ],
      "text/plain": [
       "   Unnamed: 0   end station name start station name       Date   start hour  \\\n",
       "0           0      Grove St PATH      Hamilton Park  1/27/2019  10:29:35 AM   \n",
       "1           1      Grove St PATH      Hamilton Park  1/27/2019  10:30:02 AM   \n",
       "2           2   Heights Elevator      Hamilton Park  1/26/2019   1:21:48 PM   \n",
       "3           3  JC Medical Center  JC Medical Center  1/27/2019  11:45:28 AM   \n",
       "4           4  JC Medical Center  JC Medical Center  1/27/2019  11:45:53 AM   \n",
       "\n",
       "      stoptime  usertype  bikeid  birth year  end station id  \\\n",
       "0  10:29:35 AM  Customer   29209        1969            3186   \n",
       "1  10:30:02 AM  Customer   29490        1969            3186   \n",
       "2   1:21:48 PM  Customer   26163        1969            3198   \n",
       "3  11:45:28 AM  Customer   26184        1969            3205   \n",
       "4  11:45:53 AM  Customer   26222        1969            3205   \n",
       "\n",
       "   end station latitude  end station longitude gender  start station id  \\\n",
       "0             40.719586             -74.043117      U              3203   \n",
       "1             40.719586             -74.043117      U              3203   \n",
       "2             40.748716             -74.040443      U              3203   \n",
       "3             40.716540             -74.049638      U              3205   \n",
       "4             40.716540             -74.049638      U              3205   \n",
       "\n",
       "   start station latitude  start station longitude  tripduration(sec)  \\\n",
       "0               40.727596               -74.044247                284   \n",
       "1               40.727596               -74.044247                309   \n",
       "2               40.727596               -74.044247               1319   \n",
       "3               40.716540               -74.049638               1919   \n",
       "4               40.716540               -74.049638               1893   \n",
       "\n",
       "   tripduration(min)  \n",
       "0               4.73  \n",
       "1               5.15  \n",
       "2              21.98  \n",
       "3              31.98  \n",
       "4              31.55  "
      ]
     },
     "execution_count": 2,
     "metadata": {},
     "output_type": "execute_result"
    }
   ],
   "source": [
    "df_raw = pd.read_csv('JC-201901-citibike-tripdata_Union.csv')\n",
    "df_raw.head()"
   ]
  },
  {
   "cell_type": "code",
   "execution_count": 16,
   "metadata": {},
   "outputs": [],
   "source": [
    "#df = df[df.line_race != 0]\n",
    "# df1 = df_raw[df_raw['tripduration(sec)']>=90]\n",
    "# df2 = df1[df1['tripduration(min)']<=1440]\n",
    "# df2.to_csv('JC-201901-citibike-tripdata_Union.csv')"
   ]
  },
  {
   "cell_type": "code",
   "execution_count": 4,
   "metadata": {},
   "outputs": [
    {
     "data": {
      "text/plain": [
       "117"
      ]
     },
     "execution_count": 4,
     "metadata": {},
     "output_type": "execute_result"
    }
   ],
   "source": [
    "df_raw['end station name'].nunique()"
   ]
  },
  {
   "cell_type": "code",
   "execution_count": 5,
   "metadata": {},
   "outputs": [
    {
     "data": {
      "text/plain": [
       "53"
      ]
     },
     "execution_count": 5,
     "metadata": {},
     "output_type": "execute_result"
    }
   ],
   "source": [
    "df_raw['start station name'].nunique()"
   ]
  },
  {
   "cell_type": "code",
   "execution_count": null,
   "metadata": {},
   "outputs": [],
   "source": []
  }
 ],
 "metadata": {
  "kernelspec": {
   "display_name": "Python 3.7.6 64-bit ('PythonData': conda)",
   "language": "python",
   "name": "python37664bitpythondatacondaf8068f3ef8f04aeabe34811a64ef10db"
  },
  "language_info": {
   "codemirror_mode": {
    "name": "ipython",
    "version": 3
   },
   "file_extension": ".py",
   "mimetype": "text/x-python",
   "name": "python",
   "nbconvert_exporter": "python",
   "pygments_lexer": "ipython3",
   "version": "3.7.6"
  }
 },
 "nbformat": 4,
 "nbformat_minor": 4
}
